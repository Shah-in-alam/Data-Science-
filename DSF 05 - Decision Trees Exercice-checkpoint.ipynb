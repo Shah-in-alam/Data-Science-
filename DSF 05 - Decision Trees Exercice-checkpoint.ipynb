{
 "cells": [
  {
   "cell_type": "markdown",
   "metadata": {},
   "source": [
    "# Chapter 5: Decision Trees"
   ]
  },
  {
   "cell_type": "markdown",
   "metadata": {},
   "source": [
    "%reset\n",
    "low_memory=False\n",
    "\n",
    "import pandas as pd\n",
    "import matplotlib.pyplot as plt\n",
    "import imblearn\n",
    "\n",
    "import seaborn as sns\n",
    "from sklearn import metrics\n",
    "from sklearn.model_selection import train_test_split\n",
    "from sklearn.linear_model import LogisticRegression\n",
    "from sklearn.tree import DecisionTreeClassifier\n",
    "from sklearn.metrics import classification_report\n",
    "from sklearn.metrics import accuracy_score\n",
    "from sklearn.metrics import accuracy_score\n",
    "from imblearn.metrics import specificity_score\n",
    "from sklearn.metrics import recall_score\n",
    "from sklearn.metrics import precision_score\n",
    "from sklearn.metrics import f1_score"
   ]
  },
  {
   "cell_type": "markdown",
   "metadata": {},
   "source": [
    "## 5.1 Introduction & Motivation"
   ]
  },
  {
   "cell_type": "markdown",
   "metadata": {},
   "source": [
    "We have already seen a first classification model. However, There are plenty more models we can work with. One of these is Decision Trees. In decision trees we starting at the root and create leaves or $nodes$ by asking questions. For example when predicting an animal type this could be 'Does the animal have a tail?'. For each node we ask aditional questions."
   ]
  },
  {
   "cell_type": "markdown",
   "metadata": {},
   "source": [
    "## 5.2 Problem Setting"
   ]
  },
  {
   "cell_type": "markdown",
   "metadata": {},
   "source": [
    "When it comes to wine, there are various degrees of quality. Some people are experts in this field, others pretend to be. Today we are going to try and beat the experts by predicting the exact quality of wine based on its features. This quality can range from 0 up to 10 where 0 is the lowest quality and 10 is the highest quality."
   ]
  },
  {
   "cell_type": "markdown",
   "metadata": {},
   "source": [
    "## 5.3 Model"
   ]
  },
  {
   "cell_type": "markdown",
   "metadata": {},
   "source": [
    "First, let's have a look at the data."
   ]
  },
  {
   "cell_type": "code",
   "execution_count": null,
   "metadata": {},
   "outputs": [],
   "source": [
    "df = pd.read_csv(\"Wine.csv\")\n",
    "df.head()"
   ]
  },
  {
   "cell_type": "markdown",
   "metadata": {},
   "source": [
    "##### Question 1: Consider the data above. Are there columns that will not add any value to our model? Elaborate and drop those columns."
   ]
  },
  {
   "cell_type": "markdown",
   "metadata": {},
   "source": [
    "##### Question 2: Just as always, explore the data by creating a heatmap. Which variables would you expect to have the highest impact on quality and which ones would you expect to have the lowest impact? Why?"
   ]
  },
  {
   "cell_type": "markdown",
   "metadata": {},
   "source": [
    "##### Question 3: Create a train and test split of the data. Keep 30% of your data as testing data. Build your model using all data except the columns you droped during question 1."
   ]
  },
  {
   "cell_type": "markdown",
   "metadata": {},
   "source": [
    "##### Question 4: Consider a bottle of wine below. What would be the quality of this wine?\n",
    "\n",
    "| fixed acidity | volatile acidity | citric acid | residual sugar | chlorides | free sulfur dioxide | total sulfur dioxide | density | pH | sulphates | alcohol | Id |\n",
    "| --- | --- | --- |--- | --- | --- | --- | --- | --- | --- | --- | --- |\n",
    "| 5.9 | 0.645 | 0.12 | 2.0 | 0.075 | 32.0 | 44.0 | 0.9954 | 3.57 | 0.71 | 10.2 | 178 |"
   ]
  },
  {
   "cell_type": "markdown",
   "metadata": {},
   "source": [
    "## 5.4 Model Evaluation"
   ]
  },
  {
   "cell_type": "markdown",
   "metadata": {},
   "source": [
    "Of course our predictions don't mean anything without knowing how good they are. Let's explore this."
   ]
  },
  {
   "cell_type": "markdown",
   "metadata": {},
   "source": [
    "##### Question 5: Calculate accuracy and precision for your model. Are these values any good? Elaborate based on the formulas and meaning of the metrics."
   ]
  },
  {
   "cell_type": "markdown",
   "metadata": {},
   "source": [
    "##### Question 6: Plot the confuson matrix. How can you visually confirm your previous findings?"
   ]
  },
  {
   "cell_type": "markdown",
   "metadata": {},
   "source": [
    "##### Question 7: Think back to the introdcution of this dataset. Does the confusion matrix make sense? Do the labels actually mean what you assume they mean? Explore the predictions and read the documentation to figure it what is going on and how to properly interpret the confusion matrix.\n",
    "\n",
    "*Hint: pandas might have some useful methods to analyse a single column*"
   ]
  },
  {
   "cell_type": "markdown",
   "metadata": {},
   "source": [
    "## 5.5 Questions"
   ]
  },
  {
   "cell_type": "markdown",
   "metadata": {},
   "source": [
    "##### Question 1: See section 5.3\n",
    "\n",
    "##### Question 2: See section 5.3\n",
    "\n",
    "##### Question 3: See section 5.3\n",
    "\n",
    "##### Question 4: See section 5.3\n",
    "\n",
    "##### Question 5: See section 5.4\n",
    "\n",
    "##### Question 6: See section 5.4\n",
    "\n",
    "##### Question 7: See section 5.4"
   ]
  },
  {
   "cell_type": "markdown",
   "metadata": {},
   "source": [
    "##### Question 8: We know our decision tree model works by creating different nodes. Just how many nodes are we creating? Experiment a bit (or google it/ask chatGPT if you are lazy :P) to find this out."
   ]
  },
  {
   "cell_type": "markdown",
   "metadata": {},
   "source": [
    "##### Question 9: While our model does its best, this may not be the ideal amount of nodes. train your model on a range of different node depts using the parameter 'max_depth' and calculate the accuracy for each max depth. Plot the scores and find the best depth. Retrain your model using this depth and report on the accuracy/precision."
   ]
  },
  {
   "cell_type": "markdown",
   "metadata": {},
   "source": [
    "##### Question 10: How would you detect overfitting in classification? Do this check for all models you tested in question 8 and plot the results. Would you choose a different max_depth now?"
   ]
  },
  {
   "cell_type": "markdown",
   "metadata": {},
   "source": [
    "##### Question 11: A variant of Decision trees is called 'Random Forest'. In random forest, we create a number of decision trees who each make a prediction and take the average outcome. For classification, this is the outcome that occurs the most over all decision trees. Based on the [documentation](https://scikit-learn.org/dev/modules/generated/sklearn.ensemble.RandomForestClassifier.html#sklearn.ensemble.RandomForestClassifier) (or you can experiment yourself, it is very similar to decision trees so I'm sure you can figure it out!) create a model for a random forest and report on the accuracy/precision."
   ]
  },
  {
   "cell_type": "markdown",
   "metadata": {},
   "source": [
    "##### Question 12: Would a randomforest be more or less prone to overfitting than a decision tree? Study up on the exact workings of a random forest and elaborate."
   ]
  }
 ],
 "metadata": {
  "kernelspec": {
   "display_name": "Python 3 (ipykernel)",
   "language": "python",
   "name": "python3"
  },
  "language_info": {
   "codemirror_mode": {
    "name": "ipython",
    "version": 3
   },
   "file_extension": ".py",
   "mimetype": "text/x-python",
   "name": "python",
   "nbconvert_exporter": "python",
   "pygments_lexer": "ipython3",
   "version": "3.11.5"
  }
 },
 "nbformat": 4,
 "nbformat_minor": 4
}
