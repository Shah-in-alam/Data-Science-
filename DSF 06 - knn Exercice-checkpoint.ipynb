{
 "cells": [
  {
   "cell_type": "markdown",
   "metadata": {},
   "source": [
    "# Chapter 6: knn"
   ]
  },
  {
   "cell_type": "code",
   "execution_count": 1,
   "metadata": {},
   "outputs": [
    {
     "name": "stdout",
     "output_type": "stream",
     "text": [
      "Once deleted, variables cannot be recovered. Proceed (y/[n])? y\n"
     ]
    }
   ],
   "source": [
    "%reset\n",
    "low_memory=False\n",
    "\n",
    "import pandas as pd\n",
    "import matplotlib.pyplot as plt\n",
    "import imblearn\n",
    "\n",
    "import seaborn as sns\n",
    "from sklearn import metrics\n",
    "from sklearn.model_selection import train_test_split\n",
    "from sklearn.neighbors import KNeighborsClassifier\n",
    "from sklearn.metrics import classification_report\n",
    "from sklearn.metrics import accuracy_score\n",
    "from imblearn.metrics import specificity_score\n",
    "from sklearn.metrics import recall_score\n",
    "from sklearn.metrics import precision_score\n",
    "from sklearn.metrics import f1_score"
   ]
  },
  {
   "cell_type": "markdown",
   "metadata": {},
   "source": [
    "## 6.1 Introduction & Motivation"
   ]
  },
  {
   "cell_type": "markdown",
   "metadata": {},
   "source": [
    "Now that we've seen two classification models, it's time to add a third one: knn or *k nearest neighbours*. This model essentials works based on one single question: **When looking at the *k* datapoints closest to me, which label occurs the most?**\n",
    "\n",
    "This model is easy to understand but can be tricky to tune, especially when it comes to finding the best value for k. In this excercise you will put the model to the test, compare it to the ones you already know and explore new ways to get the best evaluation!"
   ]
  },
  {
   "cell_type": "markdown",
   "metadata": {},
   "source": [
    "## 6.2 Problem Setting"
   ]
  },
  {
   "cell_type": "markdown",
   "metadata": {},
   "source": [
    "After a war, often dangerous equipement gets left behind scattered around a field. Over time these can become buried in the earth and lost to time. However, at some point later in time civilians sometimes find still live explosives leading to dangerous situations. Over here in flanders for example, to this day farmers still find live mines from WW 1 when plowing their fields.\n",
    "\n",
    "To combat this and take out as many of them as possible, a government can take some sonar scans of the ground. The dataset that we are going to explore today contains a series of object, each scanned 60 times with a sonar from different angles. We are trying to predict whether a scanned object is an actual mine 'M' or a rock shaped like a mine 'R'. These values are stored in the 'Material' column."
   ]
  },
  {
   "cell_type": "markdown",
   "metadata": {},
   "source": [
    "## 6.3 Model"
   ]
  },
  {
   "cell_type": "markdown",
   "metadata": {},
   "source": [
    "First, let's have a look at the data."
   ]
  },
  {
   "cell_type": "code",
   "execution_count": 2,
   "metadata": {},
   "outputs": [
    {
     "data": {
      "text/html": [
       "<div>\n",
       "<style scoped>\n",
       "    .dataframe tbody tr th:only-of-type {\n",
       "        vertical-align: middle;\n",
       "    }\n",
       "\n",
       "    .dataframe tbody tr th {\n",
       "        vertical-align: top;\n",
       "    }\n",
       "\n",
       "    .dataframe thead th {\n",
       "        text-align: right;\n",
       "    }\n",
       "</style>\n",
       "<table border=\"1\" class=\"dataframe\">\n",
       "  <thead>\n",
       "    <tr style=\"text-align: right;\">\n",
       "      <th></th>\n",
       "      <th>Sonar1</th>\n",
       "      <th>Sonar2</th>\n",
       "      <th>Sonar3</th>\n",
       "      <th>Sonar4</th>\n",
       "      <th>Sonar5</th>\n",
       "      <th>Sonar6</th>\n",
       "      <th>Sonar7</th>\n",
       "      <th>Sonar8</th>\n",
       "      <th>Sonar9</th>\n",
       "      <th>Sonar10</th>\n",
       "      <th>...</th>\n",
       "      <th>Sonar52</th>\n",
       "      <th>Sonar53</th>\n",
       "      <th>Sonar54</th>\n",
       "      <th>Sonar55</th>\n",
       "      <th>Sonar56</th>\n",
       "      <th>Sonar57</th>\n",
       "      <th>Sonar58</th>\n",
       "      <th>Sonar59</th>\n",
       "      <th>Sonar60</th>\n",
       "      <th>Material</th>\n",
       "    </tr>\n",
       "  </thead>\n",
       "  <tbody>\n",
       "    <tr>\n",
       "      <th>0</th>\n",
       "      <td>0.0664</td>\n",
       "      <td>0.0575</td>\n",
       "      <td>0.0842</td>\n",
       "      <td>0.0372</td>\n",
       "      <td>0.0458</td>\n",
       "      <td>0.0771</td>\n",
       "      <td>0.0771</td>\n",
       "      <td>0.1130</td>\n",
       "      <td>0.2353</td>\n",
       "      <td>0.1838</td>\n",
       "      <td>...</td>\n",
       "      <td>0.0141</td>\n",
       "      <td>0.0190</td>\n",
       "      <td>0.0043</td>\n",
       "      <td>0.0036</td>\n",
       "      <td>0.0026</td>\n",
       "      <td>0.0024</td>\n",
       "      <td>0.0162</td>\n",
       "      <td>0.0109</td>\n",
       "      <td>0.0079</td>\n",
       "      <td>R</td>\n",
       "    </tr>\n",
       "    <tr>\n",
       "      <th>1</th>\n",
       "      <td>0.0094</td>\n",
       "      <td>0.0333</td>\n",
       "      <td>0.0306</td>\n",
       "      <td>0.0376</td>\n",
       "      <td>0.1296</td>\n",
       "      <td>0.1795</td>\n",
       "      <td>0.1909</td>\n",
       "      <td>0.1692</td>\n",
       "      <td>0.1870</td>\n",
       "      <td>0.1725</td>\n",
       "      <td>...</td>\n",
       "      <td>0.0153</td>\n",
       "      <td>0.0112</td>\n",
       "      <td>0.0241</td>\n",
       "      <td>0.0164</td>\n",
       "      <td>0.0055</td>\n",
       "      <td>0.0078</td>\n",
       "      <td>0.0055</td>\n",
       "      <td>0.0091</td>\n",
       "      <td>0.0067</td>\n",
       "      <td>M</td>\n",
       "    </tr>\n",
       "    <tr>\n",
       "      <th>2</th>\n",
       "      <td>0.0201</td>\n",
       "      <td>0.0178</td>\n",
       "      <td>0.0274</td>\n",
       "      <td>0.0232</td>\n",
       "      <td>0.0724</td>\n",
       "      <td>0.0833</td>\n",
       "      <td>0.1232</td>\n",
       "      <td>0.1298</td>\n",
       "      <td>0.2085</td>\n",
       "      <td>0.2720</td>\n",
       "      <td>...</td>\n",
       "      <td>0.0131</td>\n",
       "      <td>0.0049</td>\n",
       "      <td>0.0104</td>\n",
       "      <td>0.0102</td>\n",
       "      <td>0.0092</td>\n",
       "      <td>0.0083</td>\n",
       "      <td>0.0020</td>\n",
       "      <td>0.0048</td>\n",
       "      <td>0.0036</td>\n",
       "      <td>M</td>\n",
       "    </tr>\n",
       "    <tr>\n",
       "      <th>3</th>\n",
       "      <td>0.0526</td>\n",
       "      <td>0.0563</td>\n",
       "      <td>0.1219</td>\n",
       "      <td>0.1206</td>\n",
       "      <td>0.0246</td>\n",
       "      <td>0.1022</td>\n",
       "      <td>0.0539</td>\n",
       "      <td>0.0439</td>\n",
       "      <td>0.2291</td>\n",
       "      <td>0.1632</td>\n",
       "      <td>...</td>\n",
       "      <td>0.0339</td>\n",
       "      <td>0.0149</td>\n",
       "      <td>0.0335</td>\n",
       "      <td>0.0376</td>\n",
       "      <td>0.0174</td>\n",
       "      <td>0.0132</td>\n",
       "      <td>0.0103</td>\n",
       "      <td>0.0364</td>\n",
       "      <td>0.0208</td>\n",
       "      <td>M</td>\n",
       "    </tr>\n",
       "    <tr>\n",
       "      <th>4</th>\n",
       "      <td>0.0261</td>\n",
       "      <td>0.0266</td>\n",
       "      <td>0.0223</td>\n",
       "      <td>0.0749</td>\n",
       "      <td>0.1364</td>\n",
       "      <td>0.1513</td>\n",
       "      <td>0.1316</td>\n",
       "      <td>0.1654</td>\n",
       "      <td>0.1864</td>\n",
       "      <td>0.2013</td>\n",
       "      <td>...</td>\n",
       "      <td>0.0222</td>\n",
       "      <td>0.0175</td>\n",
       "      <td>0.0127</td>\n",
       "      <td>0.0022</td>\n",
       "      <td>0.0124</td>\n",
       "      <td>0.0054</td>\n",
       "      <td>0.0021</td>\n",
       "      <td>0.0028</td>\n",
       "      <td>0.0023</td>\n",
       "      <td>M</td>\n",
       "    </tr>\n",
       "  </tbody>\n",
       "</table>\n",
       "<p>5 rows × 61 columns</p>\n",
       "</div>"
      ],
      "text/plain": [
       "   Sonar1  Sonar2  Sonar3  Sonar4  Sonar5  Sonar6  Sonar7  Sonar8  Sonar9  \\\n",
       "0  0.0664  0.0575  0.0842  0.0372  0.0458  0.0771  0.0771  0.1130  0.2353   \n",
       "1  0.0094  0.0333  0.0306  0.0376  0.1296  0.1795  0.1909  0.1692  0.1870   \n",
       "2  0.0201  0.0178  0.0274  0.0232  0.0724  0.0833  0.1232  0.1298  0.2085   \n",
       "3  0.0526  0.0563  0.1219  0.1206  0.0246  0.1022  0.0539  0.0439  0.2291   \n",
       "4  0.0261  0.0266  0.0223  0.0749  0.1364  0.1513  0.1316  0.1654  0.1864   \n",
       "\n",
       "   Sonar10  ...  Sonar52  Sonar53  Sonar54  Sonar55  Sonar56  Sonar57  \\\n",
       "0   0.1838  ...   0.0141   0.0190   0.0043   0.0036   0.0026   0.0024   \n",
       "1   0.1725  ...   0.0153   0.0112   0.0241   0.0164   0.0055   0.0078   \n",
       "2   0.2720  ...   0.0131   0.0049   0.0104   0.0102   0.0092   0.0083   \n",
       "3   0.1632  ...   0.0339   0.0149   0.0335   0.0376   0.0174   0.0132   \n",
       "4   0.2013  ...   0.0222   0.0175   0.0127   0.0022   0.0124   0.0054   \n",
       "\n",
       "   Sonar58  Sonar59  Sonar60  Material  \n",
       "0   0.0162   0.0109   0.0079         R  \n",
       "1   0.0055   0.0091   0.0067         M  \n",
       "2   0.0020   0.0048   0.0036         M  \n",
       "3   0.0103   0.0364   0.0208         M  \n",
       "4   0.0021   0.0028   0.0023         M  \n",
       "\n",
       "[5 rows x 61 columns]"
      ]
     },
     "execution_count": 2,
     "metadata": {},
     "output_type": "execute_result"
    }
   ],
   "source": [
    "df = pd.read_csv(\"Sonar.csv\")\n",
    "df.head()"
   ]
  },
  {
   "cell_type": "markdown",
   "metadata": {},
   "source": [
    "##### Question 1: Try and plot a heatmap to further explore the data. Do you run into any errors? Why is this? How can you solve this using a method we've already seen?"
   ]
  },
  {
   "cell_type": "markdown",
   "metadata": {},
   "source": [
    "##### Question 2: Just as always, explore the data by looking at the heatmap. Which variables would you expect to have the highest impact on quality and which ones would you expect to have the lowest impact? Why?"
   ]
  },
  {
   "cell_type": "markdown",
   "metadata": {},
   "source": [
    "##### Question 3: Build and train your model. Make sure to keep some data on the side for testing and to exclude your final column in your training data!"
   ]
  },
  {
   "cell_type": "markdown",
   "metadata": {},
   "source": [
    "##### Question 4: Predict the materials of your testing data. How many rocks are there? And how many mines?"
   ]
  },
  {
   "cell_type": "markdown",
   "metadata": {},
   "source": [
    "## 6.4 Model Evaluation"
   ]
  },
  {
   "cell_type": "markdown",
   "metadata": {},
   "source": [
    "Of course our predictions don't mean anything without knowing how good they are. Let's explore this."
   ]
  },
  {
   "cell_type": "markdown",
   "metadata": {},
   "source": [
    "##### Question 5: Is your model any good? Elaborate by calculation accuracy and precision."
   ]
  },
  {
   "cell_type": "markdown",
   "metadata": {},
   "source": [
    "##### Question 6: Can you visually confirm your previous findings by plotting a confusion matrix?"
   ]
  },
  {
   "cell_type": "markdown",
   "metadata": {},
   "source": [
    "##### Question 7: Calculate the other methods we've seen. Are they any good? Elaborate. In the current dataset, would you prefer a high recall or specificity? Why?\n",
    "*Remember that we are working with a binary solution, not a multiclass solution!*"
   ]
  },
  {
   "cell_type": "markdown",
   "metadata": {},
   "source": [
    "## 6.5 Questions"
   ]
  },
  {
   "cell_type": "markdown",
   "metadata": {},
   "source": [
    "##### Question 1: See section 6.3\n",
    "\n",
    "##### Question 2: See section 6.3\n",
    "\n",
    "##### Question 3: See section 6.3\n",
    "\n",
    "##### Question 4: See section 6.3\n",
    "\n",
    "##### Question 5: See section 6.4\n",
    "\n",
    "##### Question 6: See section 6.4\n",
    "\n",
    "##### Question 7: See section 6.4"
   ]
  },
  {
   "cell_type": "markdown",
   "metadata": {},
   "source": [
    "##### Question 8: By default, python will use 5 as the amount of nearest neighbours. Try and find the best value by plotting a series of possible values."
   ]
  },
  {
   "cell_type": "markdown",
   "metadata": {},
   "source": [
    "##### Question 9: Do the same for the metric you want to maximize. Does your preferred value for n change? Which value would be 'best' in the end for this data?"
   ]
  },
  {
   "cell_type": "markdown",
   "metadata": {},
   "source": [
    "##### Question 10: Train a logistic regression, decision trees and random forest model on this data. Try and find the best models you can using the methods we've explored in earlier lessons. Which model do you prefer?"
   ]
  },
  {
   "cell_type": "markdown",
   "metadata": {},
   "source": [
    "##### Question 11: It might just so happen that the test set we are using does not properly represent the whole dataset we have and thus might unfairly favor one model. A way to combat this is called cross validation. Do some research and implement this method using a 10-fold. Does the outcome you found above change?"
   ]
  }
 ],
 "metadata": {
  "kernelspec": {
   "display_name": "Python 3 (ipykernel)",
   "language": "python",
   "name": "python3"
  },
  "language_info": {
   "codemirror_mode": {
    "name": "ipython",
    "version": 3
   },
   "file_extension": ".py",
   "mimetype": "text/x-python",
   "name": "python",
   "nbconvert_exporter": "python",
   "pygments_lexer": "ipython3",
   "version": "3.11.5"
  }
 },
 "nbformat": 4,
 "nbformat_minor": 4
}
