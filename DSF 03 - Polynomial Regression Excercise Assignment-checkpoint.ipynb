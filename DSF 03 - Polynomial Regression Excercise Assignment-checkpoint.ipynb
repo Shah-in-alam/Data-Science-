{
 "cells": [
  {
   "cell_type": "markdown",
   "metadata": {},
   "source": [
    "# Chapter 3: Polynomial Regression excercise"
   ]
  },
  {
   "cell_type": "code",
   "execution_count": null,
   "metadata": {},
   "outputs": [],
   "source": [
    "%reset\n",
    "low_memory=False\n",
    "\n",
    "import numpy as np\n",
    "import pandas as pd\n",
    "import matplotlib.pyplot as plt\n",
    "import seaborn as sns\n",
    "\n",
    "from sklearn.preprocessing import PolynomialFeatures\n",
    "from sklearn.metrics import mean_squared_error\n",
    "from sklearn.metrics import mean_absolute_error\n",
    "from sklearn.linear_model import LinearRegression\n",
    "from sklearn.model_selection import train_test_split"
   ]
  },
  {
   "cell_type": "markdown",
   "metadata": {},
   "source": [
    "## 3.1 Introduction & Motivation"
   ]
  },
  {
   "cell_type": "markdown",
   "metadata": {},
   "source": [
    "While linear regression in itself is an interesting tool, it can only bring us so far. At a certain point data will no longer have a linear connection and we will have to resort to using **polynomial regression**. Using an example regarding cars we will compare both forms of regression and try to end up with the best model possible."
   ]
  },
  {
   "cell_type": "markdown",
   "metadata": {},
   "source": [
    "## 3.2 Problem setting"
   ]
  },
  {
   "cell_type": "markdown",
   "metadata": {},
   "source": [
    "Every car has a certain distance it can drive per unit of fuel. In the industry, this is measured in **MPG** (or Miles Per Gallon). The higher the MPG, the more fuel-efficient a certain car is. Generally speaking we want a high MPG to save money on fuel cost."
   ]
  },
  {
   "cell_type": "markdown",
   "metadata": {},
   "source": [
    "## 3.3 Model"
   ]
  },
  {
   "cell_type": "markdown",
   "metadata": {},
   "source": [
    "Go to canvas and donload the file \"Auto.csv\" from module 3. This data contains the required dataset."
   ]
  },
  {
   "cell_type": "code",
   "execution_count": null,
   "metadata": {},
   "outputs": [],
   "source": [
    "df = pd.read_csv(\"Auto.csv\")\n",
    "df.head()"
   ]
  },
  {
   "cell_type": "markdown",
   "metadata": {},
   "source": [
    "##### Question 1: Have a look at the data. Can you spot a column we will not be able to use? Why is this? Can you think of a way to transform this type of data so we could use it after all? Would work for the data we currently have? Elaborate.\n",
    "\n",
    "Polynomial regression won't work with text. We could theoretically convert each string into integers to assign a value. These values could then be used by the model. However, since each car name is unique and has no real connection to its preformance, this likely would not result in a better model.\n",
    "\n",
    "What could potentially result in a better model would be the brand name of a car. This because certain brands could create more efficient cars, meaning a car of brand A would be more likely to have a high MPG than a car of brand B."
   ]
  },
  {
   "cell_type": "markdown",
   "metadata": {},
   "source": [
    "##### Question 2: Drop the extra column. Create a train_test split from the remaining data. Make sure **not** to include the final mpg colum in your \"X\" dataset!"
   ]
  },
  {
   "cell_type": "code",
   "execution_count": null,
   "metadata": {},
   "outputs": [],
   "source": [
    "df = df.drop(['<name of the column we won't use>'], axis=1)"
   ]
  },
  {
   "cell_type": "markdown",
   "metadata": {},
   "source": [
    "Since we are working with a lot of variables, it is time to plot a heatmap."
   ]
  },
  {
   "cell_type": "code",
   "execution_count": null,
   "metadata": {},
   "outputs": [],
   "source": [
    "plt.figure(figsize=(12,8))\n",
    "sns.heatmap(df.corr(),cmap='viridis',annot=True)"
   ]
  },
  {
   "cell_type": "markdown",
   "metadata": {},
   "source": [
    "##### Question 3: Explore the heatmap. Which variables would you expect to be useful when trying to predict MPG?\n",
    "\n",
    "##### Question 4: Plot the data using \"weight\" as the independant variable. Fit a model using linear regression. Calculate $R^2$ and the MSE. Is this any good? Show the model on a plot and elaborate."
   ]
  },
  {
   "cell_type": "markdown",
   "metadata": {},
   "source": [
    "## 3.4 Model evaluation"
   ]
  },
  {
   "cell_type": "markdown",
   "metadata": {},
   "source": [
    "We already did some early model evaluating, but we can look for a better degree of our function to improve the model."
   ]
  },
  {
   "cell_type": "markdown",
   "metadata": {},
   "source": [
    "##### Question 6: Figure out what the best degree of the function is. Calculate the MSE for each degree on training and testing data and plot the values to figure out the best value. be careful of overfitting!"
   ]
  },
  {
   "cell_type": "markdown",
   "metadata": {},
   "source": [
    "## 3.5 Excercises"
   ]
  },
  {
   "cell_type": "markdown",
   "metadata": {},
   "source": [
    "##### Question 1: See section 3.3\n",
    "\n",
    "##### Question 2: See section 3.3\n",
    "\n",
    "##### Question 3: See section 3.3\n",
    "\n",
    "##### Question 4: See section 3.3\n",
    "\n",
    "##### Question 5: See section 3.3\n",
    "\n",
    "##### Question 6: See section 3.5\n",
    "\n",
    "##### Question 7: A new car just came on the market with a weight of 2071 pounds. What MPG can we expect of this car?\n",
    "\n",
    "##### Question 8: Have another look at the heatmap from section 3.3. Can you spot another variable that might bring an improvement to the model? Figure out the best degree and retrain the model with 'weight' and the added variabele. Calculate $R^2$ and the MSE. Did the model improve?\n",
    "\n",
    "##### Question 9: Figure out which columns give the best result. Retrain your models as many times as needed using different columns. figure out the best degree and calculate $R^2$ and the MSE. What is the best model you can achieve?"
   ]
  },
  {
   "cell_type": "code",
   "execution_count": null,
   "metadata": {},
   "outputs": [],
   "source": []
  }
 ],
 "metadata": {
  "kernelspec": {
   "display_name": "Python 3 (ipykernel)",
   "language": "python",
   "name": "python3"
  },
  "language_info": {
   "codemirror_mode": {
    "name": "ipython",
    "version": 3
   },
   "file_extension": ".py",
   "mimetype": "text/x-python",
   "name": "python",
   "nbconvert_exporter": "python",
   "pygments_lexer": "ipython3",
   "version": "3.11.5"
  }
 },
 "nbformat": 4,
 "nbformat_minor": 4
}
