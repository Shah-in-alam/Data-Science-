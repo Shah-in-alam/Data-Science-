{
 "cells": [
  {
   "cell_type": "markdown",
   "metadata": {},
   "source": [
    "# Chapter 8: Hierarchical Clustering"
   ]
  },
  {
   "cell_type": "code",
   "execution_count": null,
   "metadata": {},
   "outputs": [],
   "source": [
    "%reset\n",
    "%matplotlib inline\n",
    "low_memory=False\n",
    "import numpy as np\n",
    "import pandas as pd\n",
    "import matplotlib.pyplot as plt\n",
    "import matplotlib.mlab as mlab\n",
    "import seaborn as sns; sns.set()\n",
    "from scipy import stats\n",
    "import math\n",
    "import os\n",
    "import random\n",
    "from sklearn.linear_model import LinearRegression\n",
    "from sklearn.model_selection import train_test_split\n",
    "from sklearn.metrics import mean_squared_error\n",
    "from sklearn.metrics import mean_absolute_error\n",
    "from sklearn.datasets import make_blobs\n",
    "from sklearn.datasets import load_digits\n",
    "from sklearn.cluster import KMeans\n",
    "from scipy.stats import mode\n",
    "import scipy.cluster.hierarchy as shc"
   ]
  },
  {
   "cell_type": "markdown",
   "metadata": {},
   "source": [
    "## 8.1 Introduction & Motivation"
   ]
  },
  {
   "cell_type": "markdown",
   "metadata": {},
   "source": [
    "Just like last time, we are passing our data and asking ourself the following question: within the given data, are there any **groups** or **clusters** of datapoints that belong together?\n",
    "\n",
    "However, this time we will be having a look at hierarchical clustering. This method of clustering starts by looking at each individual datapoint and works it's way up until only one cluster remains. We can then define when to stop merging clusters and what the ideal amount of clusters is."
   ]
  },
  {
   "cell_type": "markdown",
   "metadata": {},
   "source": [
    "## 8.2 Problem Setting"
   ]
  },
  {
   "cell_type": "markdown",
   "metadata": {},
   "source": [
    "Consider an automobile manufacturer that has created prototypes for a new vehicle. Prior to launching this new model, the manufacturer aims to identify which current vehicles on the market closely resemble the prototypes. This involves categorizing vehicles, determining which category is most similar to the new model, and identifying the models it will compete against.\n",
    "\n",
    "The goal is to employ clustering techniques to identify the most distinct groups of vehicles. This will provide an overview of the current market and assist manufacturers in making informed decisions regarding the introduction of new models."
   ]
  },
  {
   "cell_type": "markdown",
   "metadata": {},
   "source": [
    "## 8.3 Model"
   ]
  },
  {
   "cell_type": "markdown",
   "metadata": {},
   "source": [
    "First, let's have a look at the data."
   ]
  },
  {
   "cell_type": "code",
   "execution_count": null,
   "metadata": {},
   "outputs": [],
   "source": [
    "df = pd.read_csv(\"Cars.csv\")\n",
    "df.head()"
   ]
  },
  {
   "cell_type": "code",
   "execution_count": null,
   "metadata": {},
   "outputs": [],
   "source": [
    "df.info()"
   ]
  },
  {
   "cell_type": "markdown",
   "metadata": {},
   "source": [
    "##### Question 1: Try and plot a heatmap to further explore the data. There will be two columns you will not be able to plot. Drop them from the heatmap, but do not drop them from your dataframe as we will be needing them later. You can also store them in a seperate dataframe if you wish."
   ]
  },
  {
   "cell_type": "markdown",
   "metadata": {},
   "source": [
    "##### Question 2: You will notice one column who acts different thant what we are used to. Why is this? Can we use this column? If not, drop the column."
   ]
  },
  {
   "cell_type": "markdown",
   "metadata": {},
   "source": [
    "## 8.4 Model Evaluation"
   ]
  },
  {
   "cell_type": "markdown",
   "metadata": {},
   "source": [
    "##### Question 3: Create a dendogram of the model. Remember to exclude the two columns we are keeping to the side on your model. Instead, do some research on the parameters and use one or both of them as labels."
   ]
  },
  {
   "cell_type": "markdown",
   "metadata": {},
   "source": [
    "##### Question 4: Think about the proces behind merging two clusters. By looking at the dendrogram, what would you think is a good amount of clusters? Why?"
   ]
  },
  {
   "cell_type": "markdown",
   "metadata": {},
   "source": [
    "##### Question 5: Calculate the best amount of clusters. Look back to the dendrogram. Does this amount make sense?"
   ]
  },
  {
   "cell_type": "markdown",
   "metadata": {},
   "source": [
    "##### Question 6: Draw a line on the dendrogram to visualize the amount of clusters you have found. Do these groups make sense? Are the amount of cars in each cluster balanced? Elaborate."
   ]
  },
  {
   "cell_type": "markdown",
   "metadata": {},
   "source": [
    "## 8.4 Exercises"
   ]
  },
  {
   "cell_type": "markdown",
   "metadata": {},
   "source": [
    "##### Question 1: See section 8.3\n",
    "##### Question 2: See section 8.3\n",
    "##### Question 3: See section 8.3\n",
    "##### Question 4: See section 8.3\n",
    "##### Question 5: See section 8.3\n",
    "##### Question 6: See section 8.3\n",
    "##### Question 7: Consider the cars dataset. Which clustering method would you prefer? Why?"
   ]
  },
  {
   "cell_type": "markdown",
   "metadata": {},
   "source": [
    "##### Question 8: Calculate the best amount of k for k means"
   ]
  },
  {
   "cell_type": "markdown",
   "metadata": {},
   "source": [
    "##### Question 9: Consider 'mpg' as the dependant variable. Calculate the best value of k and plot the graph for the following columns as independent variables:\n",
    "- sales\n",
    "- resale\n",
    "- price\n",
    "- engine_s\n",
    "- horsepow\n",
    "- wheelbas\n",
    "- width\n",
    "- length\n",
    "- curb_wgt\n",
    "- fuel_cap\n",
    "- lnsales"
   ]
  },
  {
   "cell_type": "markdown",
   "metadata": {},
   "source": [
    "##### Question 10: Do the same but with hierarchical clustering."
   ]
  }
 ],
 "metadata": {
  "kernelspec": {
   "display_name": "Python 3 (ipykernel)",
   "language": "python",
   "name": "python3"
  },
  "language_info": {
   "codemirror_mode": {
    "name": "ipython",
    "version": 3
   },
   "file_extension": ".py",
   "mimetype": "text/x-python",
   "name": "python",
   "nbconvert_exporter": "python",
   "pygments_lexer": "ipython3",
   "version": "3.11.5"
  }
 },
 "nbformat": 4,
 "nbformat_minor": 4
}
